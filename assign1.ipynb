{
 "cells": [
  {
   "attachments": {},
   "cell_type": "markdown",
   "metadata": {},
   "source": [
    "Q1. Which keyword is used to create a function? Create a function to return a list of odd numbers in the \n",
    "range of 1 to 25.\n",
    "\n",
    "def keyword is used to create a function"
   ]
  },
  {
   "cell_type": "code",
   "execution_count": 1,
   "metadata": {},
   "outputs": [
    {
     "data": {
      "text/plain": [
       "[1, 3, 5, 7, 9, 11, 13, 15, 17, 19, 21, 23, 25]"
      ]
     },
     "execution_count": 1,
     "metadata": {},
     "output_type": "execute_result"
    }
   ],
   "source": [
    "def find_odd():\n",
    "    li = []\n",
    "\n",
    "    i = 1\n",
    "    while( i <= 25 ):\n",
    "        if( i % 2 != 0 ):\n",
    "            li.append( i )\n",
    "        i += 1\n",
    "    return li\n",
    "\n",
    "find_odd()\n"
   ]
  },
  {
   "attachments": {},
   "cell_type": "markdown",
   "metadata": {},
   "source": [
    "Q2. Why *args and **kwargs is used in some functions? Create a function each for *args and **kwargs \n",
    "to demonstrate their use ?\n",
    "\n",
    "In Python, *args and **kwargs are used as parameters in function definitions to handle variable-length arguments.\n"
   ]
  },
  {
   "cell_type": "code",
   "execution_count": 2,
   "metadata": {},
   "outputs": [
    {
     "data": {
      "text/plain": [
       "(25, 'Mohan', 25.32)"
      ]
     },
     "execution_count": 2,
     "metadata": {},
     "output_type": "execute_result"
    }
   ],
   "source": [
    "def test(*args):\n",
    "    return args\n",
    "\n",
    "test( 25 , \"Mohan\" , 25.32 )"
   ]
  },
  {
   "cell_type": "code",
   "execution_count": 3,
   "metadata": {},
   "outputs": [
    {
     "data": {
      "text/plain": [
       "{'a': [1, 2, 3], 'b': 'mohan'}"
      ]
     },
     "execution_count": 3,
     "metadata": {},
     "output_type": "execute_result"
    }
   ],
   "source": [
    "def test1(**kwargs):\n",
    "    return kwargs\n",
    "\n",
    "# this function will return the dict object \n",
    "\n",
    "test1( a = [1, 2, 3], b = \"mohan\" )"
   ]
  },
  {
   "attachments": {},
   "cell_type": "markdown",
   "metadata": {},
   "source": [
    "Q3.  What is an iterator in python? Name the method used to initialise the iterator object and the method \n",
    "used for iteration. Use these methods to print the first five elements of the given list [2, 4, 6, 8, 10, 12, 14, \n",
    "16, 18, 20].\n",
    "\n",
    "In Python, an iterator is an object that implements the iterator protocol, which consists of the __iter__() and __next__() methods. Iterators are used to traverse or iterate over a collection of elements sequentially, allowing you to access each element one at a time.\n",
    "\n",
    "The method used for initlize the iterator is the __iter__() and method used for iterator __next()_\n",
    "\n"
   ]
  },
  {
   "cell_type": "code",
   "execution_count": 7,
   "metadata": {},
   "outputs": [
    {
     "name": "stdout",
     "output_type": "stream",
     "text": [
      "2\n",
      "4\n",
      "6\n",
      "8\n",
      "10\n"
     ]
    }
   ],
   "source": [
    "l = [2, 4, 6, 8, 10, 12, 14, 16, 18, 20]\n",
    "\n",
    "li = iter( l )\n",
    "\n",
    "for i in range(5):\n",
    "    print( next( li ) )"
   ]
  },
  {
   "attachments": {},
   "cell_type": "markdown",
   "metadata": {},
   "source": [
    "Q4.  What is a generator function in python? Why yield keyword is used? Give an example of a generator \n",
    "function\n",
    "\n",
    "In Python, a generator function is a special type of function that uses the yield keyword to return a sequence of values one at a time.\n",
    "\n",
    "yield keyword used to return a values at an run time in the function \n"
   ]
  },
  {
   "cell_type": "code",
   "execution_count": 8,
   "metadata": {},
   "outputs": [
    {
     "name": "stdout",
     "output_type": "stream",
     "text": [
      "0\n",
      "1\n",
      "1\n",
      "2\n",
      "3\n",
      "5\n",
      "8\n",
      "13\n",
      "21\n",
      "34\n"
     ]
    }
   ],
   "source": [
    "def fibo( n ):\n",
    "    a,b = 0, 1\n",
    "    for i in range( n ):\n",
    "        yield( a )\n",
    "        a,b = b, a+b\n",
    "for i in fibo( 10 ):\n",
    "    print( i )"
   ]
  },
  {
   "attachments": {},
   "cell_type": "markdown",
   "metadata": {},
   "source": [
    "Q5. Create a generator function for prime numbers less than 1000. Use the next() method to print the \n",
    "first 20 prime numbers."
   ]
  },
  {
   "cell_type": "code",
   "execution_count": 9,
   "metadata": {},
   "outputs": [
    {
     "name": "stdout",
     "output_type": "stream",
     "text": [
      "2\n",
      "3\n",
      "5\n",
      "7\n",
      "11\n",
      "13\n",
      "17\n",
      "19\n",
      "23\n",
      "29\n",
      "31\n",
      "37\n",
      "41\n",
      "43\n",
      "47\n",
      "53\n",
      "59\n",
      "61\n",
      "67\n",
      "71\n"
     ]
    }
   ],
   "source": [
    "def find_prime():\n",
    "    yield 2 # 2 is a prime number \n",
    "    primes = [2]\n",
    "    num = 3 # start checking from the 3\n",
    "\n",
    "    while num < 1000:\n",
    "        is_prime = True # check if num is a prime number or not \n",
    "        for prime in primes:\n",
    "            if prime > int(num**0.5) + 1:\n",
    "                break\n",
    "            if num % prime == 0:\n",
    "                is_prime = False\n",
    "                break  \n",
    "        \n",
    "        if is_prime:\n",
    "            primes.append( num )\n",
    "            yield num\n",
    "        \n",
    "        # Here we are just checking for odd numbers\n",
    "        num += 2\n",
    "\n",
    "# Create the prime number generator \n",
    "prime_gen = find_prime()\n",
    "\n",
    "# Print thr first 20 prime number \n",
    "for _ in range( 20 ):\n",
    "    print( next( prime_gen ) )"
   ]
  },
  {
   "attachments": {},
   "cell_type": "markdown",
   "metadata": {},
   "source": [
    "Q6. Write a python program to print the first 10 Fibonacci numbers using a while loop"
   ]
  },
  {
   "cell_type": "code",
   "execution_count": 11,
   "metadata": {},
   "outputs": [
    {
     "data": {
      "text/plain": [
       "[0, 1, 1, 2, 3, 5, 8, 13, 21, 34, 55]"
      ]
     },
     "execution_count": 11,
     "metadata": {},
     "output_type": "execute_result"
    }
   ],
   "source": [
    "# Function to find the fibonacci number \n",
    "def fibo( n ):\n",
    "    a,b = 0,1\n",
    "    ans = [0]\n",
    "\n",
    "    for i in range( n ):\n",
    "        a,b = b , a+b\n",
    "        ans.append( a )\n",
    "    return ans \n",
    "\n",
    "fibo( 10 )"
   ]
  },
  {
   "attachments": {},
   "cell_type": "markdown",
   "metadata": {},
   "source": [
    "Q7. Write a List Comprehension to iterate through the given string: ‘pwskills’.\n",
    "\n",
    "Expected output: ['p', 'w', 's', 'k', 'i', 'l', 'l', 's'] "
   ]
  },
  {
   "cell_type": "code",
   "execution_count": 12,
   "metadata": {},
   "outputs": [
    {
     "data": {
      "text/plain": [
       "['p', 'w', 's', 'k', 'i', 'l', 'l', 's']"
      ]
     },
     "execution_count": 12,
     "metadata": {},
     "output_type": "execute_result"
    }
   ],
   "source": [
    "def string_comp( s ):\n",
    "    li = []\n",
    "    for i in s:\n",
    "        li.append( i )\n",
    "    return li\n",
    "\n",
    "s = \"pwskills\"\n",
    "\n",
    "string_comp( s )\n"
   ]
  },
  {
   "attachments": {},
   "cell_type": "markdown",
   "metadata": {},
   "source": [
    "Q8. Write a python program to check whether a given number is Palindrome or not using a while loop."
   ]
  },
  {
   "cell_type": "code",
   "execution_count": 17,
   "metadata": {},
   "outputs": [
    {
     "data": {
      "text/plain": [
       "True"
      ]
     },
     "execution_count": 17,
     "metadata": {},
     "output_type": "execute_result"
    }
   ],
   "source": [
    "# Plaindrome function \n",
    "def check_plaindrome( n ):\n",
    "    # Storing this number in the list \n",
    "    li = []\n",
    "\n",
    "    while( n != 0 ):\n",
    "        a = n % 10\n",
    "        n = int( n / 10 )\n",
    "        li.append( a )\n",
    "    \n",
    "    # Using the two pointer we check the condn \n",
    "    left = 0\n",
    "    right = len( li ) - 1\n",
    "    is_plaindrome = True\n",
    "\n",
    "    while( left < right ):\n",
    "\n",
    "        if( li[ left ] != li[ right ] ):\n",
    "            is_plaindrome = False\n",
    "            break\n",
    "\n",
    "        left += 1\n",
    "        right -= 1\n",
    "\n",
    "    return is_plaindrome\n",
    "\n",
    "check_plaindrome( 2222 )\n"
   ]
  },
  {
   "attachments": {},
   "cell_type": "markdown",
   "metadata": {},
   "source": [
    "Q9. Write a code to print odd numbers from 1 to 100 using list comprehension."
   ]
  },
  {
   "cell_type": "code",
   "execution_count": 21,
   "metadata": {},
   "outputs": [
    {
     "data": {
      "text/plain": [
       "[1,\n",
       " 3,\n",
       " 5,\n",
       " 7,\n",
       " 9,\n",
       " 11,\n",
       " 13,\n",
       " 15,\n",
       " 17,\n",
       " 19,\n",
       " 21,\n",
       " 23,\n",
       " 25,\n",
       " 27,\n",
       " 29,\n",
       " 31,\n",
       " 33,\n",
       " 35,\n",
       " 37,\n",
       " 39,\n",
       " 41,\n",
       " 43,\n",
       " 45,\n",
       " 47,\n",
       " 49,\n",
       " 51,\n",
       " 53,\n",
       " 55,\n",
       " 57,\n",
       " 59,\n",
       " 61,\n",
       " 63,\n",
       " 65,\n",
       " 67,\n",
       " 69,\n",
       " 71,\n",
       " 73,\n",
       " 75,\n",
       " 77,\n",
       " 79,\n",
       " 81,\n",
       " 83,\n",
       " 85,\n",
       " 87,\n",
       " 89,\n",
       " 91,\n",
       " 93,\n",
       " 95,\n",
       " 97,\n",
       " 99]"
      ]
     },
     "execution_count": 21,
     "metadata": {},
     "output_type": "execute_result"
    }
   ],
   "source": [
    "li = []\n",
    "# Storing 100 number in an list \n",
    "i = 1\n",
    "while( i <= 100 ):\n",
    "    li.append( i )\n",
    "    i += 1\n",
    "\n",
    "def odd( x ):\n",
    "    if( x % 2 != 0 ):\n",
    "        return x\n",
    "\n",
    "list( filter( odd , li ) )"
   ]
  }
 ],
 "metadata": {
  "kernelspec": {
   "display_name": "Python 3",
   "language": "python",
   "name": "python3"
  },
  "language_info": {
   "codemirror_mode": {
    "name": "ipython",
    "version": 3
   },
   "file_extension": ".py",
   "mimetype": "text/x-python",
   "name": "python",
   "nbconvert_exporter": "python",
   "pygments_lexer": "ipython3",
   "version": "3.10.7"
  },
  "orig_nbformat": 4
 },
 "nbformat": 4,
 "nbformat_minor": 2
}
